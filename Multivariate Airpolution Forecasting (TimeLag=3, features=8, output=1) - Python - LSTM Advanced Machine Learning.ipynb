{
 "cells": [
  {
   "cell_type": "markdown",
   "id": "f20df587",
   "metadata": {},
   "source": [
    "# Multi-Variate Air Pollution Forecasting "
   ]
  },
  {
   "cell_type": "markdown",
   "id": "c1a28932",
   "metadata": {},
   "source": [
    "# Objective: \n",
    "- Predicting air pollution according to 8 variable: 'pollution', 'dew', 'temp', 'press', 'wnd_dir', 'wnd_spd', 'snow', 'rain'\n",
    "\n",
    "# About the Data:\n",
    "- The datset used here is the airpolution dataset of Beijing city of China. \n",
    "- Data is collected from the following website: https://raw.githubusercontent.com/jbrownlee/Datasets/master/pollution.csv\n",
    "- The feature list in the raw data is explained as follow:\n",
    "\n",
    "    * No: number of rows\n",
    "    * year: year of data in every row\n",
    "    * month: month of data in every row\n",
    "    * day: day of data in every row\n",
    "    * hour: hour of data in every row\n",
    "    * pm2.5: PM2.5 refers to particulate matter with a diameter of 2.5 micrometers or smaller. These fine particles are a significant component of air pollution and can have serious health effects due to their ability to penetrate deep into the lungs and enter the bloodstream.\n",
    "    * DEWP: The dew point is the temperature at which air becomes saturated with moisture and water vapor begins to condense into liquid water. It is a critical parameter in understanding and predicting weather\n",
    "    * TEMP: Temperature\n",
    "    * PRES: Pressure\n",
    "    * cbwd: Combined wind direction\n",
    "    * Iws: Cumulated wind speed\n",
    "    * Is: Cumulated hours of snow\n",
    "    * Ir: Cumulated hours of rain\n",
    "\n"
   ]
  },
  {
   "cell_type": "markdown",
   "id": "eecb0437",
   "metadata": {},
   "source": [
    "# General Forecasting Process of LSTM Models:\n",
    "* Before machine learning can be used, time series forecasting problems must be re-framed as supervised learning problems. From a sequence to pairs of input and output sequences. \n",
    "* After preparing data, data is split into train and test \n",
    "* Train data is used for training the model\n",
    "* Test data is used for forecasting\n",
    "* In this notebook, 8 features (or variables) are being used to forecast the air pollution over time. "
   ]
  },
  {
   "cell_type": "markdown",
   "id": "9ea157a5",
   "metadata": {},
   "source": [
    "# Import Libraries"
   ]
  },
  {
   "cell_type": "code",
   "execution_count": 1,
   "id": "ee794614",
   "metadata": {
    "scrolled": false
   },
   "outputs": [
    {
     "name": "stdout",
     "output_type": "stream",
     "text": [
      "WARNING:tensorflow:From C:\\Users\\Hamid.Azizi\\AppData\\Local\\anaconda3\\Lib\\site-packages\\keras\\src\\losses.py:2976: The name tf.losses.sparse_softmax_cross_entropy is deprecated. Please use tf.compat.v1.losses.sparse_softmax_cross_entropy instead.\n",
      "\n"
     ]
    }
   ],
   "source": [
    "import pandas as pd\n",
    "import numpy as np\n",
    "from datetime import datetime\n",
    "import matplotlib.pyplot as plt\n",
    "from sklearn.preprocessing import LabelEncoder\n",
    "from sklearn.preprocessing import MinMaxScaler\n",
    "from keras.models import Sequential\n",
    "from keras.layers import Dense, Dropout, LSTM, GRU"
   ]
  },
  {
   "cell_type": "markdown",
   "id": "8d236870",
   "metadata": {},
   "source": [
    "# Data preperation and preprocessing"
   ]
  },
  {
   "cell_type": "code",
   "execution_count": 2,
   "id": "5e1857c5",
   "metadata": {
    "scrolled": false
   },
   "outputs": [
    {
     "data": {
      "text/html": [
       "<div>\n",
       "<style scoped>\n",
       "    .dataframe tbody tr th:only-of-type {\n",
       "        vertical-align: middle;\n",
       "    }\n",
       "\n",
       "    .dataframe tbody tr th {\n",
       "        vertical-align: top;\n",
       "    }\n",
       "\n",
       "    .dataframe thead th {\n",
       "        text-align: right;\n",
       "    }\n",
       "</style>\n",
       "<table border=\"1\" class=\"dataframe\">\n",
       "  <thead>\n",
       "    <tr style=\"text-align: right;\">\n",
       "      <th></th>\n",
       "      <th>No,year,month,day,hour,pm2.5,DEWP,TEMP,PRES,cbwd,Iws,Is,Ir</th>\n",
       "    </tr>\n",
       "  </thead>\n",
       "  <tbody>\n",
       "    <tr>\n",
       "      <th>0</th>\n",
       "      <td>1,2010,1,1,0,NA,-21,-11,1021,NW,1.79,0,0</td>\n",
       "    </tr>\n",
       "    <tr>\n",
       "      <th>1</th>\n",
       "      <td>2,2010,1,1,1,NA,-21,-12,1020,NW,4.92,0,0</td>\n",
       "    </tr>\n",
       "    <tr>\n",
       "      <th>2</th>\n",
       "      <td>3,2010,1,1,2,NA,-21,-11,1019,NW,6.71,0,0</td>\n",
       "    </tr>\n",
       "    <tr>\n",
       "      <th>3</th>\n",
       "      <td>4,2010,1,1,3,NA,-21,-14,1019,NW,9.84,0,0</td>\n",
       "    </tr>\n",
       "    <tr>\n",
       "      <th>4</th>\n",
       "      <td>5,2010,1,1,4,NA,-20,-12,1018,NW,12.97,0,0</td>\n",
       "    </tr>\n",
       "  </tbody>\n",
       "</table>\n",
       "</div>"
      ],
      "text/plain": [
       "  No,year,month,day,hour,pm2.5,DEWP,TEMP,PRES,cbwd,Iws,Is,Ir\n",
       "0           1,2010,1,1,0,NA,-21,-11,1021,NW,1.79,0,0        \n",
       "1           2,2010,1,1,1,NA,-21,-12,1020,NW,4.92,0,0        \n",
       "2           3,2010,1,1,2,NA,-21,-11,1019,NW,6.71,0,0        \n",
       "3           4,2010,1,1,3,NA,-21,-14,1019,NW,9.84,0,0        \n",
       "4          5,2010,1,1,4,NA,-20,-12,1018,NW,12.97,0,0        "
      ]
     },
     "execution_count": 2,
     "metadata": {},
     "output_type": "execute_result"
    }
   ],
   "source": [
    "df = pd.read_csv('Book1.csv')\n",
    "df.head()"
   ]
  },
  {
   "cell_type": "code",
   "execution_count": 3,
   "id": "d69b2b82",
   "metadata": {},
   "outputs": [],
   "source": [
    "# We replaced the names with string and separate them and determine the new columns to our df\n",
    "df[['No','Year', 'Month', 'Day', 'Hour', 'pollution', 'dew point', 'temperature', 'pressure', 'wind direction', 'wind speed', 'snow', 'rain']] = df['No,year,month,day,hour,pm2.5,DEWP,TEMP,PRES,cbwd,Iws,Is,Ir'].str.split(',', expand=True)\n",
    "\n",
    "# Drop previous columns and column \"No\"\n",
    "df.drop(columns=['No,year,month,day,hour,pm2.5,DEWP,TEMP,PRES,cbwd,Iws,Is,Ir'], inplace=True)\n",
    "df.drop(columns=['No'], inplace=True)\n",
    "\n",
    "# We have a copy of our df in data\"\n",
    "data_main = df.copy()"
   ]
  },
  {
   "cell_type": "code",
   "execution_count": 4,
   "id": "06d49fa1",
   "metadata": {},
   "outputs": [
    {
     "data": {
      "text/html": [
       "<div>\n",
       "<style scoped>\n",
       "    .dataframe tbody tr th:only-of-type {\n",
       "        vertical-align: middle;\n",
       "    }\n",
       "\n",
       "    .dataframe tbody tr th {\n",
       "        vertical-align: top;\n",
       "    }\n",
       "\n",
       "    .dataframe thead th {\n",
       "        text-align: right;\n",
       "    }\n",
       "</style>\n",
       "<table border=\"1\" class=\"dataframe\">\n",
       "  <thead>\n",
       "    <tr style=\"text-align: right;\">\n",
       "      <th></th>\n",
       "      <th>pollution</th>\n",
       "      <th>dew point</th>\n",
       "      <th>temperature</th>\n",
       "      <th>pressure</th>\n",
       "      <th>wind direction</th>\n",
       "      <th>wind speed</th>\n",
       "      <th>snow</th>\n",
       "      <th>rain</th>\n",
       "    </tr>\n",
       "    <tr>\n",
       "      <th>Date</th>\n",
       "      <th></th>\n",
       "      <th></th>\n",
       "      <th></th>\n",
       "      <th></th>\n",
       "      <th></th>\n",
       "      <th></th>\n",
       "      <th></th>\n",
       "      <th></th>\n",
       "    </tr>\n",
       "  </thead>\n",
       "  <tbody>\n",
       "    <tr>\n",
       "      <th>2010-01-02 00:00:00</th>\n",
       "      <td>129.0</td>\n",
       "      <td>-16</td>\n",
       "      <td>-4.0</td>\n",
       "      <td>1020.0</td>\n",
       "      <td>SE</td>\n",
       "      <td>1.79</td>\n",
       "      <td>0</td>\n",
       "      <td>0</td>\n",
       "    </tr>\n",
       "    <tr>\n",
       "      <th>2010-01-02 01:00:00</th>\n",
       "      <td>148.0</td>\n",
       "      <td>-15</td>\n",
       "      <td>-4.0</td>\n",
       "      <td>1020.0</td>\n",
       "      <td>SE</td>\n",
       "      <td>2.68</td>\n",
       "      <td>0</td>\n",
       "      <td>0</td>\n",
       "    </tr>\n",
       "    <tr>\n",
       "      <th>2010-01-02 02:00:00</th>\n",
       "      <td>159.0</td>\n",
       "      <td>-11</td>\n",
       "      <td>-5.0</td>\n",
       "      <td>1021.0</td>\n",
       "      <td>SE</td>\n",
       "      <td>3.57</td>\n",
       "      <td>0</td>\n",
       "      <td>0</td>\n",
       "    </tr>\n",
       "    <tr>\n",
       "      <th>2010-01-02 03:00:00</th>\n",
       "      <td>181.0</td>\n",
       "      <td>-7</td>\n",
       "      <td>-5.0</td>\n",
       "      <td>1022.0</td>\n",
       "      <td>SE</td>\n",
       "      <td>5.36</td>\n",
       "      <td>1</td>\n",
       "      <td>0</td>\n",
       "    </tr>\n",
       "    <tr>\n",
       "      <th>2010-01-02 04:00:00</th>\n",
       "      <td>138.0</td>\n",
       "      <td>-7</td>\n",
       "      <td>-5.0</td>\n",
       "      <td>1022.0</td>\n",
       "      <td>SE</td>\n",
       "      <td>6.25</td>\n",
       "      <td>2</td>\n",
       "      <td>0</td>\n",
       "    </tr>\n",
       "  </tbody>\n",
       "</table>\n",
       "</div>"
      ],
      "text/plain": [
       "                     pollution  dew point  temperature  pressure  \\\n",
       "Date                                                               \n",
       "2010-01-02 00:00:00      129.0        -16         -4.0    1020.0   \n",
       "2010-01-02 01:00:00      148.0        -15         -4.0    1020.0   \n",
       "2010-01-02 02:00:00      159.0        -11         -5.0    1021.0   \n",
       "2010-01-02 03:00:00      181.0         -7         -5.0    1022.0   \n",
       "2010-01-02 04:00:00      138.0         -7         -5.0    1022.0   \n",
       "\n",
       "                    wind direction  wind speed  snow  rain  \n",
       "Date                                                        \n",
       "2010-01-02 00:00:00             SE        1.79     0     0  \n",
       "2010-01-02 01:00:00             SE        2.68     0     0  \n",
       "2010-01-02 02:00:00             SE        3.57     0     0  \n",
       "2010-01-02 03:00:00             SE        5.36     1     0  \n",
       "2010-01-02 04:00:00             SE        6.25     2     0  "
      ]
     },
     "execution_count": 4,
     "metadata": {},
     "output_type": "execute_result"
    }
   ],
   "source": [
    "# Let's convert the date-time information into a single date-time so that we can use it as an index in Pandas\n",
    "def combine_datetime(df):\n",
    "    year = str(df['Year'])\n",
    "    month = str(df['Month'])\n",
    "    day = str(df['Day'])\n",
    "    hour = str(df['Hour'])\n",
    "    combined_string = year + '-' + month + '-' + day + ' ' + hour\n",
    "    return datetime.strptime(combined_string, '%Y-%m-%d %H')\n",
    "\n",
    "\n",
    "df['Date'] = df.apply(combine_datetime, axis=1)\n",
    "df.drop(columns=['Year', 'Month', 'Day', 'Hour'], axis=1)\n",
    "df = df[['Date', 'pollution', 'dew point', 'temperature', 'pressure', 'wind direction', 'wind speed', 'snow', 'rain']]\n",
    "\n",
    "# Set 'Date' column as indx for df\n",
    "df.set_index('Date', inplace = True) \n",
    "\n",
    "# Let's see the NA values for \"pollution\" column\n",
    "df[df['pollution'] == 'NA']\n",
    "\n",
    "# Replace \"NA\" values with 0\n",
    "df.iloc[:, 0].replace('NA', 0)\n",
    "\n",
    "# first 24 hours of df is dropped\n",
    "df = df[24 :]\n",
    "\n",
    "# Save the df in file named:pollution.csv\n",
    "df.to_csv('pollution.csv')\n",
    "\n",
    "# Read 'pollution.csv'\n",
    "df = pd.read_csv('pollution.csv')\n",
    "\n",
    "# Set 'Date' as index for df\n",
    "df = df.set_index('Date')\n",
    "\n",
    "df.head()"
   ]
  },
  {
   "cell_type": "markdown",
   "id": "40468030",
   "metadata": {},
   "source": [
    "# Plotting the Data"
   ]
  },
  {
   "cell_type": "code",
   "execution_count": 5,
   "id": "dd604ec4",
   "metadata": {
    "scrolled": false
   },
   "outputs": [
    {
     "data": {
      "text/plain": [
       "<Figure size 2000x2000 with 0 Axes>"
      ]
     },
     "metadata": {},
     "output_type": "display_data"
    },
    {
     "data": {
      "image/png": "[encoded data removed]",
      "text/plain": [
       "<Figure size 640x480 with 7 Axes>"
      ]
     },
     "metadata": {},
     "output_type": "display_data"
    }
   ],
   "source": [
    "fig, axes = plt.subplots(nrows=7, ncols=1,  sharex='col')\n",
    "fig = plt.figure(figsize=(20, 20))\n",
    "#add DataFrames to subplots\n",
    "df['rain'].plot(ax=axes[0])\n",
    "df['snow'].plot(ax=axes[1])\n",
    "df['wind speed'].plot(ax=axes[2])\n",
    "df['pressure'].plot(ax=axes[3])\n",
    "df['temperature'].plot(ax=axes[4])\n",
    "df['dew point'].plot(ax=axes[5])\n",
    "df['pollution'].plot(ax=axes[6])\n",
    "plt.sca(axes[6])\n",
    "plt.xticks(rotation = 45)\n",
    "plt.show()"
   ]
  },
  {
   "cell_type": "markdown",
   "id": "e2295f14",
   "metadata": {},
   "source": [
    "# Long Short Term Model (LSTM)¶\n",
    "\n",
    "- Long Short-Term Memory (LSTM) networks are a type of recurrent neural network (RNN) that are well-suited to time series forecasting due to their ability to learn long-term dependencies. LSTMs are particularly effective for datasets where the temporal order and lag relationships are critical, such as in weather forecasting, stock prices, and many other sequential data problems.\n",
    "- Long Short-Term Memory (LSTM) is a type of Recurrent Neural Network (RNN) model developed due to the vanishing gradient problem in traditional RNNs. LSTM method is used to capture long term dependencies and non-linear patterns in the data. LSTM models are trained according to backpropagation through time which reduces the vanishing gradient problem to optimize the network parameters.\n",
    "- LSTM networks contain memory cells that allow them to retain information over time. Each LSTM cell has 3 gates as forget gate, input gate and output gate. Through forget gate, it will forget unimportant information since it determines which information is considered as important information. In the input gate new information will be added to the LSTM cell. The output gate also provides us with the final prediction of model. LSTM can be successfully directed for multivariate time series forecasting. Due to its liability to retain the information over long sequence of data, it is of most importance for larger and more complex data."
   ]
  },
  {
   "cell_type": "markdown",
   "id": "55b7879f",
   "metadata": {},
   "source": [
    "# Data Preparation for LSTM model\n",
    "- Before machine learning can be used, time series forecasting problems must be re-framed as supervised learning problems and input values must be normalized.  \n",
    "- We want to predict the pollution for the current time.\n",
    "- wind direction column is categorical and should be encoded to numeric values.\n",
    "- Data is loaded and is normalized using MinMaxScaler\n",
    "- All values are made sure to be 'float' type\n",
    "- \"lstm_data_preparation\" function is used to frame the final data\n",
    "- Unneeded columns that we are not going to forecast them are dropped from a final dataframe. \n",
    "- We are going to have 8 variables or features () and forecst the air pollution \"pollution\" as an output.\n",
    "- lag of time of 1 is investigated first and we are going to look back for only 1 time to do the forecasting first. \n",
    "- An algorithm is developed to learn how to predict the output patterns from the input patterns."
   ]
  },
  {
   "cell_type": "code",
   "execution_count": 6,
   "id": "2e43424f",
   "metadata": {},
   "outputs": [
    {
     "data": {
      "text/plain": [
       "8"
      ]
     },
     "execution_count": 6,
     "metadata": {},
     "output_type": "execute_result"
    }
   ],
   "source": [
    "#Load the dataset\n",
    "df.to_csv('pollution.csv')\n",
    "df = pd.read_csv('pollution.csv', header=0, index_col=0)\n",
    "\n",
    "# Column \"wind direction\" is encoded to hold integer values\n",
    "encoder = LabelEncoder()\n",
    "values = df.values\n",
    "values[:,4] = encoder.fit_transform(values[:,4])\n",
    "\n",
    "# Let's assure all data is float\n",
    "values = values.astype('float32')\n",
    "\n",
    "# normalize features\n",
    "scaler = MinMaxScaler(feature_range=(0, 1))\n",
    "scaled = scaler.fit_transform(values)\n",
    "\n",
    "# This is being used as number of features\n",
    "scaled.shape[1] "
   ]
  },
  {
   "cell_type": "code",
   "execution_count": 7,
   "id": "c67d5919",
   "metadata": {},
   "outputs": [
    {
     "data": {
      "text/plain": [
       "array([[0.12977867, 0.35294122, 0.24590163, ..., 0.00229001, 0.        ,\n",
       "        0.        ],\n",
       "       [0.14889336, 0.36764708, 0.24590163, ..., 0.00381099, 0.        ,\n",
       "        0.        ],\n",
       "       [0.15995975, 0.4264706 , 0.22950819, ..., 0.00533197, 0.        ,\n",
       "        0.        ],\n",
       "       ...,\n",
       "       [0.01006036, 0.2647059 , 0.26229507, ..., 0.41399646, 0.        ,\n",
       "        0.        ],\n",
       "       [0.00804829, 0.2647059 , 0.24590163, ..., 0.4208665 , 0.        ,\n",
       "        0.        ],\n",
       "       [0.01207243, 0.2794118 , 0.26229507, ..., 0.42621556, 0.        ,\n",
       "        0.        ]], dtype=float32)"
      ]
     },
     "execution_count": 7,
     "metadata": {},
     "output_type": "execute_result"
    }
   ],
   "source": [
    "scaled"
   ]
  },
  {
   "cell_type": "code",
   "execution_count": 8,
   "id": "d0a73f1c",
   "metadata": {},
   "outputs": [],
   "source": [
    "# convert series to supervised learning\n",
    "def lstm_data_preparation(data, time_lag=3, number_output=1, dropnan=True):\n",
    "    \n",
    "    if type(data) is list:\n",
    "        number_variables = 1\n",
    "    else:\n",
    "        number_variables = data.shape[1]\n",
    "    \n",
    "    df = pd.DataFrame(data)\n",
    "    \n",
    "    cols, names = list(), list()\n",
    "    # input sequence (t-n, ... t-1)\n",
    "    for i in range(time_lag, 0, -1):\n",
    "        cols.append(df.shift(i))\n",
    "        names += [('var%d(t-%d)' % (j+1, i)) for j in range(number_variables)]\n",
    "    \n",
    "    # forecast sequence (t, t+1, ... t+n)\n",
    "    for i in range(0, number_output):\n",
    "        cols.append(df.shift(-i))\n",
    "        if i == 0:\n",
    "            names += [('var%d(t)' % (j+1)) for j in range(number_variables)]\n",
    "        else:\n",
    "            names += [('var%d(t+%d)' % (j+1, i)) for j in range(number_variables)]\n",
    "    # put it all together\n",
    "    agg = pd.concat(cols, axis=1)\n",
    "    agg.columns = names\n",
    "    # drop rows with NaN values\n",
    "    if dropnan:\n",
    "         agg.dropna(inplace=True)\n",
    "    return agg"
   ]
  },
  {
   "cell_type": "code",
   "execution_count": 9,
   "id": "bcc4d701",
   "metadata": {
    "scrolled": true
   },
   "outputs": [
    {
     "data": {
      "text/html": [
       "<div>\n",
       "<style scoped>\n",
       "    .dataframe tbody tr th:only-of-type {\n",
       "        vertical-align: middle;\n",
       "    }\n",
       "\n",
       "    .dataframe tbody tr th {\n",
       "        vertical-align: top;\n",
       "    }\n",
       "\n",
       "    .dataframe thead th {\n",
       "        text-align: right;\n",
       "    }\n",
       "</style>\n",
       "<table border=\"1\" class=\"dataframe\">\n",
       "  <thead>\n",
       "    <tr style=\"text-align: right;\">\n",
       "      <th></th>\n",
       "      <th>var1(t-3)</th>\n",
       "      <th>var2(t-3)</th>\n",
       "      <th>var3(t-3)</th>\n",
       "      <th>var4(t-3)</th>\n",
       "      <th>var5(t-3)</th>\n",
       "      <th>var6(t-3)</th>\n",
       "      <th>var7(t-3)</th>\n",
       "      <th>var8(t-3)</th>\n",
       "      <th>var1(t-2)</th>\n",
       "      <th>var2(t-2)</th>\n",
       "      <th>...</th>\n",
       "      <th>var7(t-1)</th>\n",
       "      <th>var8(t-1)</th>\n",
       "      <th>var1(t)</th>\n",
       "      <th>var2(t)</th>\n",
       "      <th>var3(t)</th>\n",
       "      <th>var4(t)</th>\n",
       "      <th>var5(t)</th>\n",
       "      <th>var6(t)</th>\n",
       "      <th>var7(t)</th>\n",
       "      <th>var8(t)</th>\n",
       "    </tr>\n",
       "  </thead>\n",
       "  <tbody>\n",
       "    <tr>\n",
       "      <th>3</th>\n",
       "      <td>0.129779</td>\n",
       "      <td>0.352941</td>\n",
       "      <td>0.245902</td>\n",
       "      <td>0.527273</td>\n",
       "      <td>0.666667</td>\n",
       "      <td>0.002290</td>\n",
       "      <td>0.0</td>\n",
       "      <td>0.0</td>\n",
       "      <td>0.148893</td>\n",
       "      <td>0.367647</td>\n",
       "      <td>...</td>\n",
       "      <td>0.000000</td>\n",
       "      <td>0.0</td>\n",
       "      <td>0.182093</td>\n",
       "      <td>0.485294</td>\n",
       "      <td>0.229508</td>\n",
       "      <td>0.563637</td>\n",
       "      <td>0.666667</td>\n",
       "      <td>0.008391</td>\n",
       "      <td>0.037037</td>\n",
       "      <td>0.0</td>\n",
       "    </tr>\n",
       "    <tr>\n",
       "      <th>4</th>\n",
       "      <td>0.148893</td>\n",
       "      <td>0.367647</td>\n",
       "      <td>0.245902</td>\n",
       "      <td>0.527273</td>\n",
       "      <td>0.666667</td>\n",
       "      <td>0.003811</td>\n",
       "      <td>0.0</td>\n",
       "      <td>0.0</td>\n",
       "      <td>0.159960</td>\n",
       "      <td>0.426471</td>\n",
       "      <td>...</td>\n",
       "      <td>0.037037</td>\n",
       "      <td>0.0</td>\n",
       "      <td>0.138833</td>\n",
       "      <td>0.485294</td>\n",
       "      <td>0.229508</td>\n",
       "      <td>0.563637</td>\n",
       "      <td>0.666667</td>\n",
       "      <td>0.009912</td>\n",
       "      <td>0.074074</td>\n",
       "      <td>0.0</td>\n",
       "    </tr>\n",
       "  </tbody>\n",
       "</table>\n",
       "<p>2 rows × 32 columns</p>\n",
       "</div>"
      ],
      "text/plain": [
       "   var1(t-3)  var2(t-3)  var3(t-3)  var4(t-3)  var5(t-3)  var6(t-3)  \\\n",
       "3   0.129779   0.352941   0.245902   0.527273   0.666667   0.002290   \n",
       "4   0.148893   0.367647   0.245902   0.527273   0.666667   0.003811   \n",
       "\n",
       "   var7(t-3)  var8(t-3)  var1(t-2)  var2(t-2)  ...  var7(t-1)  var8(t-1)  \\\n",
       "3        0.0        0.0   0.148893   0.367647  ...   0.000000        0.0   \n",
       "4        0.0        0.0   0.159960   0.426471  ...   0.037037        0.0   \n",
       "\n",
       "    var1(t)   var2(t)   var3(t)   var4(t)   var5(t)   var6(t)   var7(t)  \\\n",
       "3  0.182093  0.485294  0.229508  0.563637  0.666667  0.008391  0.037037   \n",
       "4  0.138833  0.485294  0.229508  0.563637  0.666667  0.009912  0.074074   \n",
       "\n",
       "   var8(t)  \n",
       "3      0.0  \n",
       "4      0.0  \n",
       "\n",
       "[2 rows x 32 columns]"
      ]
     },
     "execution_count": 9,
     "metadata": {},
     "output_type": "execute_result"
    }
   ],
   "source": [
    "# frame as supervised learning\n",
    "reframed = lstm_data_preparation(scaled, time_lag=3, number_output=1)\n",
    "reframed.head(2)"
   ]
  },
  {
   "cell_type": "code",
   "execution_count": 10,
   "id": "af9ea07f",
   "metadata": {},
   "outputs": [
    {
     "data": {
      "text/plain": [
       "32"
      ]
     },
     "execution_count": 10,
     "metadata": {},
     "output_type": "execute_result"
    }
   ],
   "source": [
    "len(reframed.columns)"
   ]
  },
  {
   "cell_type": "markdown",
   "id": "d3100697",
   "metadata": {},
   "source": [
    "- We have 3*8=24 input features/variables for the 3 hours time lag\n",
    "- We are interested in forecasting only \"pollution\" which is the first column using 24 features. Thus, the rest of the columns will be dropped from our reframed dataframe  [25,26,27,28,29,30,31,32]. "
   ]
  },
  {
   "cell_type": "markdown",
   "id": "9c970034",
   "metadata": {},
   "source": [
    "- Let's have a look into a prepared data for LSTM forecasting"
   ]
  },
  {
   "cell_type": "code",
   "execution_count": 11,
   "id": "9c7da5bb",
   "metadata": {
    "scrolled": true
   },
   "outputs": [
    {
     "data": {
      "text/html": [
       "<div>\n",
       "<style scoped>\n",
       "    .dataframe tbody tr th:only-of-type {\n",
       "        vertical-align: middle;\n",
       "    }\n",
       "\n",
       "    .dataframe tbody tr th {\n",
       "        vertical-align: top;\n",
       "    }\n",
       "\n",
       "    .dataframe thead th {\n",
       "        text-align: right;\n",
       "    }\n",
       "</style>\n",
       "<table border=\"1\" class=\"dataframe\">\n",
       "  <thead>\n",
       "    <tr style=\"text-align: right;\">\n",
       "      <th></th>\n",
       "      <th>var1(t-3)</th>\n",
       "      <th>var2(t-3)</th>\n",
       "      <th>var3(t-3)</th>\n",
       "      <th>var4(t-3)</th>\n",
       "      <th>var5(t-3)</th>\n",
       "      <th>var6(t-3)</th>\n",
       "      <th>var7(t-3)</th>\n",
       "      <th>var8(t-3)</th>\n",
       "      <th>var1(t-2)</th>\n",
       "      <th>var2(t-2)</th>\n",
       "      <th>...</th>\n",
       "      <th>var7(t-1)</th>\n",
       "      <th>var8(t-1)</th>\n",
       "      <th>var1(t)</th>\n",
       "      <th>var2(t)</th>\n",
       "      <th>var3(t)</th>\n",
       "      <th>var4(t)</th>\n",
       "      <th>var5(t)</th>\n",
       "      <th>var6(t)</th>\n",
       "      <th>var7(t)</th>\n",
       "      <th>var8(t)</th>\n",
       "    </tr>\n",
       "  </thead>\n",
       "  <tbody>\n",
       "    <tr>\n",
       "      <th>3</th>\n",
       "      <td>0.129779</td>\n",
       "      <td>0.352941</td>\n",
       "      <td>0.245902</td>\n",
       "      <td>0.527273</td>\n",
       "      <td>0.666667</td>\n",
       "      <td>0.002290</td>\n",
       "      <td>0.0</td>\n",
       "      <td>0.0</td>\n",
       "      <td>0.148893</td>\n",
       "      <td>0.367647</td>\n",
       "      <td>...</td>\n",
       "      <td>0.000000</td>\n",
       "      <td>0.0</td>\n",
       "      <td>0.182093</td>\n",
       "      <td>0.485294</td>\n",
       "      <td>0.229508</td>\n",
       "      <td>0.563637</td>\n",
       "      <td>0.666667</td>\n",
       "      <td>0.008391</td>\n",
       "      <td>0.037037</td>\n",
       "      <td>0.0</td>\n",
       "    </tr>\n",
       "    <tr>\n",
       "      <th>4</th>\n",
       "      <td>0.148893</td>\n",
       "      <td>0.367647</td>\n",
       "      <td>0.245902</td>\n",
       "      <td>0.527273</td>\n",
       "      <td>0.666667</td>\n",
       "      <td>0.003811</td>\n",
       "      <td>0.0</td>\n",
       "      <td>0.0</td>\n",
       "      <td>0.159960</td>\n",
       "      <td>0.426471</td>\n",
       "      <td>...</td>\n",
       "      <td>0.037037</td>\n",
       "      <td>0.0</td>\n",
       "      <td>0.138833</td>\n",
       "      <td>0.485294</td>\n",
       "      <td>0.229508</td>\n",
       "      <td>0.563637</td>\n",
       "      <td>0.666667</td>\n",
       "      <td>0.009912</td>\n",
       "      <td>0.074074</td>\n",
       "      <td>0.0</td>\n",
       "    </tr>\n",
       "  </tbody>\n",
       "</table>\n",
       "<p>2 rows × 32 columns</p>\n",
       "</div>"
      ],
      "text/plain": [
       "   var1(t-3)  var2(t-3)  var3(t-3)  var4(t-3)  var5(t-3)  var6(t-3)  \\\n",
       "3   0.129779   0.352941   0.245902   0.527273   0.666667   0.002290   \n",
       "4   0.148893   0.367647   0.245902   0.527273   0.666667   0.003811   \n",
       "\n",
       "   var7(t-3)  var8(t-3)  var1(t-2)  var2(t-2)  ...  var7(t-1)  var8(t-1)  \\\n",
       "3        0.0        0.0   0.148893   0.367647  ...   0.000000        0.0   \n",
       "4        0.0        0.0   0.159960   0.426471  ...   0.037037        0.0   \n",
       "\n",
       "    var1(t)   var2(t)   var3(t)   var4(t)   var5(t)   var6(t)   var7(t)  \\\n",
       "3  0.182093  0.485294  0.229508  0.563637  0.666667  0.008391  0.037037   \n",
       "4  0.138833  0.485294  0.229508  0.563637  0.666667  0.009912  0.074074   \n",
       "\n",
       "   var8(t)  \n",
       "3      0.0  \n",
       "4      0.0  \n",
       "\n",
       "[2 rows x 32 columns]"
      ]
     },
     "execution_count": 11,
     "metadata": {},
     "output_type": "execute_result"
    }
   ],
   "source": [
    "reframed.head(2)"
   ]
  },
  {
   "cell_type": "markdown",
   "id": "ac970496",
   "metadata": {},
   "source": [
    "# Multivariate LSTM Forecasting\n",
    "- In this section, we will define the LSTM modela to fit the multivariate input data.\n",
    "- First, we will split data into train/test sets. \n",
    "- We will train the data by fitting it to the four years of data. Then, we will evaluate it on the remaining 4 years."
   ]
  },
  {
   "cell_type": "markdown",
   "id": "88d0864f",
   "metadata": {},
   "source": [
    "## Train/Test Dataset Preparation"
   ]
  },
  {
   "cell_type": "markdown",
   "id": "3691d8db",
   "metadata": {},
   "source": [
    "- Let's define a function to convert reframed dataset into train and test sets (4 years for training and last year for forecasting)"
   ]
  },
  {
   "cell_type": "code",
   "execution_count": 12,
   "id": "a0cb1b84",
   "metadata": {},
   "outputs": [],
   "source": [
    "def train_test_data(data):\n",
    "    values = data.values\n",
    "    n_train_hours = 365*24*4\n",
    "    \n",
    "    train = values[:n_train_hours, :]\n",
    "    test = values[n_train_hours:, :]\n",
    "    \n",
    "    x_train, y_train = train[:, :24], train[:, -8]\n",
    "    x_test, y_test = test[:, :24], test[:, -8]\n",
    "    \n",
    "    return x_train, y_train, x_test, y_test"
   ]
  },
  {
   "cell_type": "code",
   "execution_count": 13,
   "id": "83449786",
   "metadata": {},
   "outputs": [
    {
     "data": {
      "text/plain": [
       "((35040, 24), (35040,), (6117, 24), (6117,))"
      ]
     },
     "execution_count": 13,
     "metadata": {},
     "output_type": "execute_result"
    }
   ],
   "source": [
    "x_train1, y_train1, x_test1, y_test1 = train_test_data(reframed)\n",
    "x_train1.shape, y_train1.shape, x_test1.shape, y_test1.shape"
   ]
  },
  {
   "cell_type": "markdown",
   "id": "3a93259f",
   "metadata": {},
   "source": [
    "## Reshape Train/Test Dataset (into 3D shape)"
   ]
  },
  {
   "cell_type": "markdown",
   "id": "806c14d3",
   "metadata": {},
   "source": [
    "- Input data needs to be 3D for time series forecasting  (number of rows, time_lag, number_variables) \n",
    "- Advanced models such as deep learning methods (e.g., LSTMs, GRU, CNNs) require 3D data structures to capture intricate patterns."
   ]
  },
  {
   "cell_type": "code",
   "execution_count": 14,
   "id": "96793d69",
   "metadata": {
    "scrolled": true
   },
   "outputs": [
    {
     "data": {
      "text/plain": [
       "(35040, 3, 8)"
      ]
     },
     "execution_count": 14,
     "metadata": {},
     "output_type": "execute_result"
    }
   ],
   "source": [
    "time_lag = 3\n",
    "n_features = 8\n",
    "x_train1 = x_train1.reshape((x_train1.shape[0], time_lag, n_features))\n",
    "x_train1.shape"
   ]
  },
  {
   "cell_type": "code",
   "execution_count": 15,
   "id": "396c59df",
   "metadata": {},
   "outputs": [
    {
     "data": {
      "text/plain": [
       "(6117, 3, 8)"
      ]
     },
     "execution_count": 15,
     "metadata": {},
     "output_type": "execute_result"
    }
   ],
   "source": [
    "time_lag = 3\n",
    "n_features = 8\n",
    "x_test1 = x_test1.reshape((x_test1.shape[0], time_lag, n_features))\n",
    "x_test1.shape"
   ]
  },
  {
   "cell_type": "code",
   "execution_count": 16,
   "id": "b40fe8fb",
   "metadata": {
    "scrolled": false
   },
   "outputs": [
    {
     "name": "stdout",
     "output_type": "stream",
     "text": [
      "(35040, 3, 8) (35040,) (6117, 3, 8) (6117,)\n"
     ]
    }
   ],
   "source": [
    "print(x_train1.shape, y_train1.shape, x_test1.shape, y_test1.shape)"
   ]
  },
  {
   "cell_type": "code",
   "execution_count": 17,
   "id": "6e281af6",
   "metadata": {},
   "outputs": [],
   "source": [
    "# define LSTM model and fit the data\n",
    "def LSTM_Model(x_train, y_train):\n",
    "    model = Sequential()\n",
    "    model.add(LSTM(50, input_shape=(x_train1.shape[1], x_train1.shape[2])))\n",
    "    model.add(Dense(1))\n",
    "    model.compile(loss='mae', optimizer='adam')\n",
    "    model.fit(x_train, y_train, epochs=15, batch_size=72, verbose=2, shuffle=False)\n",
    "    return model"
   ]
  },
  {
   "cell_type": "code",
   "execution_count": 18,
   "id": "253628d8",
   "metadata": {
    "scrolled": false
   },
   "outputs": [
    {
     "name": "stdout",
     "output_type": "stream",
     "text": [
      "WARNING:tensorflow:From C:\\Users\\Hamid.Azizi\\AppData\\Local\\anaconda3\\Lib\\site-packages\\keras\\src\\backend.py:873: The name tf.get_default_graph is deprecated. Please use tf.compat.v1.get_default_graph instead.\n",
      "\n",
      "WARNING:tensorflow:From C:\\Users\\Hamid.Azizi\\AppData\\Local\\anaconda3\\Lib\\site-packages\\keras\\src\\optimizers\\__init__.py:309: The name tf.train.Optimizer is deprecated. Please use tf.compat.v1.train.Optimizer instead.\n",
      "\n",
      "Epoch 1/15\n",
      "WARNING:tensorflow:From C:\\Users\\Hamid.Azizi\\AppData\\Local\\anaconda3\\Lib\\site-packages\\keras\\src\\utils\\tf_utils.py:492: The name tf.ragged.RaggedTensorValue is deprecated. Please use tf.compat.v1.ragged.RaggedTensorValue instead.\n",
      "\n",
      "487/487 - 3s - loss: 0.0296 - 3s/epoch - 5ms/step\n",
      "Epoch 2/15\n",
      "487/487 - 1s - loss: 0.0188 - 755ms/epoch - 2ms/step\n",
      "Epoch 3/15\n",
      "487/487 - 1s - loss: 0.0169 - 748ms/epoch - 2ms/step\n",
      "Epoch 4/15\n",
      "487/487 - 1s - loss: 0.0150 - 749ms/epoch - 2ms/step\n",
      "Epoch 5/15\n",
      "487/487 - 1s - loss: 0.0139 - 755ms/epoch - 2ms/step\n",
      "Epoch 6/15\n",
      "487/487 - 1s - loss: 0.0135 - 764ms/epoch - 2ms/step\n",
      "Epoch 7/15\n",
      "487/487 - 1s - loss: 0.0133 - 755ms/epoch - 2ms/step\n",
      "Epoch 8/15\n",
      "487/487 - 1s - loss: 0.0133 - 822ms/epoch - 2ms/step\n",
      "Epoch 9/15\n",
      "487/487 - 1s - loss: 0.0132 - 883ms/epoch - 2ms/step\n",
      "Epoch 10/15\n",
      "487/487 - 1s - loss: 0.0132 - 868ms/epoch - 2ms/step\n",
      "Epoch 11/15\n",
      "487/487 - 1s - loss: 0.0132 - 799ms/epoch - 2ms/step\n",
      "Epoch 12/15\n",
      "487/487 - 1s - loss: 0.0131 - 808ms/epoch - 2ms/step\n",
      "Epoch 13/15\n",
      "487/487 - 1s - loss: 0.0131 - 765ms/epoch - 2ms/step\n",
      "Epoch 14/15\n",
      "487/487 - 1s - loss: 0.0132 - 760ms/epoch - 2ms/step\n",
      "Epoch 15/15\n",
      "487/487 - 1s - loss: 0.0131 - 758ms/epoch - 2ms/step\n"
     ]
    }
   ],
   "source": [
    "lstm_model = LSTM_Model(x_train1, y_train1)"
   ]
  },
  {
   "cell_type": "code",
   "execution_count": 19,
   "id": "54310647",
   "metadata": {},
   "outputs": [
    {
     "data": {
      "text/plain": [
       "(6117, 3, 8)"
      ]
     },
     "execution_count": 19,
     "metadata": {},
     "output_type": "execute_result"
    }
   ],
   "source": [
    "x_test1.shape"
   ]
  },
  {
   "cell_type": "code",
   "execution_count": 20,
   "id": "e6d5b30e",
   "metadata": {
    "scrolled": false
   },
   "outputs": [
    {
     "name": "stdout",
     "output_type": "stream",
     "text": [
      "192/192 [==============================] - 1s 880us/step\n"
     ]
    }
   ],
   "source": [
    "# Predict the tst data\n",
    "predictions = lstm_model.predict(x_test1)"
   ]
  },
  {
   "cell_type": "markdown",
   "id": "9faf5284",
   "metadata": {},
   "source": [
    "## Model Evaluation\n",
    "\n",
    "## Some Preferred Metrics for LSTM in Time Series Forecasting:\n",
    "1. Mean Squared Error (MSE):\n",
    "    * Measures the average squared difference between the predicted and actual values.\n",
    "    * Suitable for capturing the overall prediction error magnitude.\n",
    "2. Root Mean Squared Error (RMSE):\n",
    "    * The square root of MSE, providing error in the same units as the original data.\n",
    "    * Easier to interpret than MSE.\n",
    "3. Mean Absolute Error (MAE):\n",
    "    * Measures the average absolute difference between the predicted and actual values.\n",
    "    * Less sensitive to outliers compared to MSE.\n",
    "4. Mean Absolute Percentage Error (MAPE):\n",
    "    * Measures the average absolute percentage difference between the predicted and actual values.\n",
    "    * Useful for understanding the prediction accuracy in percentage terms."
   ]
  },
  {
   "cell_type": "markdown",
   "id": "c8116f02",
   "metadata": {},
   "source": [
    "- both test data and predictions are inverse transformed to the real expected values and the model is evaluated. "
   ]
  },
  {
   "cell_type": "code",
   "execution_count": 21,
   "id": "f4fb81e3",
   "metadata": {},
   "outputs": [],
   "source": [
    "time_lag = 3\n",
    "n_features = 8\n",
    "\n",
    "# Reshape x_test1 and y_test1 data\n",
    "x_test1 = x_test1.reshape((x_test1.shape[0], time_lag*n_features))\n",
    "y_test1 = y_test1.reshape((len(y_test1), 1))\n",
    "\n",
    "# Concatenate the y-test1 and predictions with the x_test1[:, -7:]\n",
    "concat_predictions = np.concatenate((predictions, x_test1[:, -7:]), axis=1)\n",
    "concat_y_test = np.concatenate((y_test1, x_test1[:, -7:]), axis=1)"
   ]
  },
  {
   "cell_type": "code",
   "execution_count": 22,
   "id": "9438a637",
   "metadata": {
    "scrolled": true
   },
   "outputs": [],
   "source": [
    "# Inverse transform the Min-Max scaled data\n",
    "invesed_predictions = scaler.inverse_transform(concat_predictions)\n",
    "inversed_y_test = scaler.inverse_transform(concat_y_test)"
   ]
  },
  {
   "cell_type": "code",
   "execution_count": 23,
   "id": "fba5acf9",
   "metadata": {
    "scrolled": true
   },
   "outputs": [
    {
     "data": {
      "text/plain": [
       "array([[0.24802925],\n",
       "       [0.24573015],\n",
       "       [0.28143924],\n",
       "       ...,\n",
       "       [0.00664341],\n",
       "       [0.0062149 ],\n",
       "       [0.00403087]], dtype=float32)"
      ]
     },
     "execution_count": 23,
     "metadata": {},
     "output_type": "execute_result"
    }
   ],
   "source": [
    "predictions"
   ]
  },
  {
   "cell_type": "code",
   "execution_count": 24,
   "id": "21a97810",
   "metadata": {},
   "outputs": [
    {
     "data": {
      "text/plain": [
       "[]"
      ]
     },
     "execution_count": 24,
     "metadata": {},
     "output_type": "execute_result"
    },
    {
     "data": {
      "image/png": "[encoded data removed]",
      "text/plain": [
       "<Figure size 640x480 with 1 Axes>"
      ]
     },
     "metadata": {},
     "output_type": "display_data"
    }
   ],
   "source": [
    "plt.plot(predictions)\n",
    "plt.plot(y_test1)\n",
    "\n",
    "plt.plot()"
   ]
  },
  {
   "cell_type": "code",
   "execution_count": 25,
   "id": "c2e2ed17",
   "metadata": {},
   "outputs": [],
   "source": [
    "from sklearn.metrics import mean_squared_error\n",
    "\n",
    "mse = mean_squared_error(inversed_y_test, invesed_predictions, squared=False)"
   ]
  },
  {
   "cell_type": "code",
   "execution_count": 26,
   "id": "005143f5",
   "metadata": {
    "scrolled": true
   },
   "outputs": [
    {
     "data": {
      "text/plain": [
       "2.28"
      ]
     },
     "execution_count": 26,
     "metadata": {},
     "output_type": "execute_result"
    }
   ],
   "source": [
    "round(mse, 2)"
   ]
  }
 ],
 "metadata": {
  "kernelspec": {
   "display_name": "Python 3 (ipykernel)",
   "language": "python",
   "name": "python3"
  },
  "language_info": {
   "codemirror_mode": {
    "name": "ipython",
    "version": 3
   },
   "file_extension": ".py",
   "mimetype": "text/x-python",
   "name": "python",
   "nbconvert_exporter": "python",
   "pygments_lexer": "ipython3",
   "version": "3.11.5"
  }
 },
 "nbformat": 4,
 "nbformat_minor": 5
}
