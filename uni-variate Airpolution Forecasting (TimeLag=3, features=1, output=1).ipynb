{
 "cells": [
  {
   "cell_type": "markdown",
   "id": "f20df587",
   "metadata": {},
   "source": [
    "# Uni-Variate Air Pollution Forecasting "
   ]
  },
  {
   "cell_type": "markdown",
   "id": "c1a28932",
   "metadata": {},
   "source": [
    "# Objective: \n",
    "- This is a one variable time series forecasting work \n",
    "- Uni-variate foreasting will be compared to multi-variate forecasting (from another notebook) using LSTM model.\n",
    "\n",
    "# About the Data:\n",
    "- The datset used here is the airpolution dataset of Beijing city of China. \n",
    "- Data is collected from the following website: https://raw.githubusercontent.com/jbrownlee/Datasets/master/pollution.csv\n",
    "- The feature list in the raw data is explained as follow:\n",
    "\n",
    "    * No: number of rows\n",
    "    * year: year of data in every row\n",
    "    * month: month of data in every row\n",
    "    * day: day of data in every row\n",
    "    * hour: hour of data in every row\n",
    "    * pm2.5: PM2.5 refers to particulate matter with a diameter of 2.5 micrometers or smaller. These fine particles are a significant component of air pollution and can have serious health effects due to their ability to penetrate deep into the lungs and enter the bloodstream.\n",
    "    * DEWP: The dew point is the temperature at which air becomes saturated with moisture and water vapor begins to condense into liquid water. It is a critical parameter in understanding and predicting weather\n",
    "    * TEMP: Temperature\n",
    "    * PRES: Pressure\n",
    "    * cbwd: Combined wind direction\n",
    "    * Iws: Cumulated wind speed\n",
    "    * Is: Cumulated hours of snow\n",
    "    * Ir: Cumulated hours of rain\n",
    "\n"
   ]
  },
  {
   "cell_type": "markdown",
   "id": "eecb0437",
   "metadata": {},
   "source": [
    "# General Forecasting Process of LSTM Models:\n",
    "* Before machine learning can be used, time series forecasting problems must be re-framed as supervised learning problems. From a sequence to pairs of input and output sequences. \n",
    "* After preparing data, data is split into train and test \n",
    "* Train data is used for training the model\n",
    "* Test data is used for forecasting\n",
    "* In this notebook, one time lag (time_lag=1), 8 features (or variables), and one prediction (of pollution)"
   ]
  },
  {
   "cell_type": "markdown",
   "id": "9ea157a5",
   "metadata": {},
   "source": [
    "# Import Libraries"
   ]
  },
  {
   "cell_type": "code",
   "execution_count": 1,
   "id": "ee794614",
   "metadata": {
    "scrolled": true
   },
   "outputs": [
    {
     "name": "stdout",
     "output_type": "stream",
     "text": [
      "WARNING:tensorflow:From C:\\Users\\Hamid.Azizi\\AppData\\Local\\anaconda3\\Lib\\site-packages\\keras\\src\\losses.py:2976: The name tf.losses.sparse_softmax_cross_entropy is deprecated. Please use tf.compat.v1.losses.sparse_softmax_cross_entropy instead.\n",
      "\n"
     ]
    }
   ],
   "source": [
    "import pandas as pd\n",
    "import numpy as np\n",
    "from datetime import datetime\n",
    "import matplotlib.pyplot as plt\n",
    "from sklearn.preprocessing import LabelEncoder\n",
    "from sklearn.preprocessing import MinMaxScaler\n",
    "from keras.models import Sequential\n",
    "from keras.layers import Dense, Dropout, LSTM, GRU\n",
    "from sklearn.metrics import mean_squared_error, mean_absolute_error, mean_absolute_percentage_error"
   ]
  },
  {
   "cell_type": "markdown",
   "id": "8d236870",
   "metadata": {},
   "source": [
    "# Data preperation and preprocessing"
   ]
  },
  {
   "cell_type": "code",
   "execution_count": 2,
   "id": "5e1857c5",
   "metadata": {
    "scrolled": false
   },
   "outputs": [
    {
     "data": {
      "text/html": [
       "<div>\n",
       "<style scoped>\n",
       "    .dataframe tbody tr th:only-of-type {\n",
       "        vertical-align: middle;\n",
       "    }\n",
       "\n",
       "    .dataframe tbody tr th {\n",
       "        vertical-align: top;\n",
       "    }\n",
       "\n",
       "    .dataframe thead th {\n",
       "        text-align: right;\n",
       "    }\n",
       "</style>\n",
       "<table border=\"1\" class=\"dataframe\">\n",
       "  <thead>\n",
       "    <tr style=\"text-align: right;\">\n",
       "      <th></th>\n",
       "      <th>No,year,month,day,hour,pm2.5,DEWP,TEMP,PRES,cbwd,Iws,Is,Ir</th>\n",
       "    </tr>\n",
       "  </thead>\n",
       "  <tbody>\n",
       "    <tr>\n",
       "      <th>0</th>\n",
       "      <td>1,2010,1,1,0,NA,-21,-11,1021,NW,1.79,0,0</td>\n",
       "    </tr>\n",
       "    <tr>\n",
       "      <th>1</th>\n",
       "      <td>2,2010,1,1,1,NA,-21,-12,1020,NW,4.92,0,0</td>\n",
       "    </tr>\n",
       "    <tr>\n",
       "      <th>2</th>\n",
       "      <td>3,2010,1,1,2,NA,-21,-11,1019,NW,6.71,0,0</td>\n",
       "    </tr>\n",
       "    <tr>\n",
       "      <th>3</th>\n",
       "      <td>4,2010,1,1,3,NA,-21,-14,1019,NW,9.84,0,0</td>\n",
       "    </tr>\n",
       "    <tr>\n",
       "      <th>4</th>\n",
       "      <td>5,2010,1,1,4,NA,-20,-12,1018,NW,12.97,0,0</td>\n",
       "    </tr>\n",
       "  </tbody>\n",
       "</table>\n",
       "</div>"
      ],
      "text/plain": [
       "  No,year,month,day,hour,pm2.5,DEWP,TEMP,PRES,cbwd,Iws,Is,Ir\n",
       "0           1,2010,1,1,0,NA,-21,-11,1021,NW,1.79,0,0        \n",
       "1           2,2010,1,1,1,NA,-21,-12,1020,NW,4.92,0,0        \n",
       "2           3,2010,1,1,2,NA,-21,-11,1019,NW,6.71,0,0        \n",
       "3           4,2010,1,1,3,NA,-21,-14,1019,NW,9.84,0,0        \n",
       "4          5,2010,1,1,4,NA,-20,-12,1018,NW,12.97,0,0        "
      ]
     },
     "execution_count": 2,
     "metadata": {},
     "output_type": "execute_result"
    }
   ],
   "source": [
    "df = pd.read_csv('Book1.csv')\n",
    "df.head()"
   ]
  },
  {
   "cell_type": "code",
   "execution_count": 3,
   "id": "d69b2b82",
   "metadata": {},
   "outputs": [],
   "source": [
    "# We replaced the names with string and separate them and determine the new columns to our df\n",
    "df[['No','Year', 'Month', 'Day', 'Hour', 'pollution', 'dew point', 'temperature', 'pressure', 'wind direction', 'wind speed', 'snow', 'rain']] = df['No,year,month,day,hour,pm2.5,DEWP,TEMP,PRES,cbwd,Iws,Is,Ir'].str.split(',', expand=True)\n",
    "\n",
    "# Drop previous columns and column \"No\"\n",
    "df.drop(columns=['No,year,month,day,hour,pm2.5,DEWP,TEMP,PRES,cbwd,Iws,Is,Ir'], inplace=True)\n",
    "df.drop(columns=['No'], inplace=True)\n",
    "\n",
    "# We have a copy of our df in data\"\n",
    "data_main = df.copy()"
   ]
  },
  {
   "cell_type": "code",
   "execution_count": 4,
   "id": "06d49fa1",
   "metadata": {
    "scrolled": false
   },
   "outputs": [
    {
     "data": {
      "text/html": [
       "<div>\n",
       "<style scoped>\n",
       "    .dataframe tbody tr th:only-of-type {\n",
       "        vertical-align: middle;\n",
       "    }\n",
       "\n",
       "    .dataframe tbody tr th {\n",
       "        vertical-align: top;\n",
       "    }\n",
       "\n",
       "    .dataframe thead th {\n",
       "        text-align: right;\n",
       "    }\n",
       "</style>\n",
       "<table border=\"1\" class=\"dataframe\">\n",
       "  <thead>\n",
       "    <tr style=\"text-align: right;\">\n",
       "      <th></th>\n",
       "      <th>pollution</th>\n",
       "    </tr>\n",
       "    <tr>\n",
       "      <th>Date</th>\n",
       "      <th></th>\n",
       "    </tr>\n",
       "  </thead>\n",
       "  <tbody>\n",
       "    <tr>\n",
       "      <th>2010-01-02 00:00:00</th>\n",
       "      <td>129.0</td>\n",
       "    </tr>\n",
       "    <tr>\n",
       "      <th>2010-01-02 01:00:00</th>\n",
       "      <td>148.0</td>\n",
       "    </tr>\n",
       "    <tr>\n",
       "      <th>2010-01-02 02:00:00</th>\n",
       "      <td>159.0</td>\n",
       "    </tr>\n",
       "    <tr>\n",
       "      <th>2010-01-02 03:00:00</th>\n",
       "      <td>181.0</td>\n",
       "    </tr>\n",
       "    <tr>\n",
       "      <th>2010-01-02 04:00:00</th>\n",
       "      <td>138.0</td>\n",
       "    </tr>\n",
       "  </tbody>\n",
       "</table>\n",
       "</div>"
      ],
      "text/plain": [
       "                     pollution\n",
       "Date                          \n",
       "2010-01-02 00:00:00      129.0\n",
       "2010-01-02 01:00:00      148.0\n",
       "2010-01-02 02:00:00      159.0\n",
       "2010-01-02 03:00:00      181.0\n",
       "2010-01-02 04:00:00      138.0"
      ]
     },
     "execution_count": 4,
     "metadata": {},
     "output_type": "execute_result"
    }
   ],
   "source": [
    "# Let's convert the date-time information into a single date-time so that we can use it as an index in Pandas\n",
    "def combine_datetime(df):\n",
    "    year = str(df['Year'])\n",
    "    month = str(df['Month'])\n",
    "    day = str(df['Day'])\n",
    "    hour = str(df['Hour'])\n",
    "    combined_string = year + '-' + month + '-' + day + ' ' + hour\n",
    "    return datetime.strptime(combined_string, '%Y-%m-%d %H')\n",
    "\n",
    "\n",
    "df['Date'] = df.apply(combine_datetime, axis=1)\n",
    "df.drop(columns=['Year', 'Month', 'Day', 'Hour'], axis=1)\n",
    "df = df[['Date', 'pollution']]\n",
    "\n",
    "# Set 'Date' column as indx for df\n",
    "df.set_index('Date', inplace = True) \n",
    "\n",
    "# Let's see the NA values for \"pollution\" column\n",
    "df[df['pollution'] == 'NA']\n",
    "\n",
    "# Replace \"NA\" values with 0\n",
    "df.iloc[:, 0].replace('NA', 0)\n",
    "\n",
    "# first 24 hours of df is dropped\n",
    "df = df[24 :]\n",
    "\n",
    "# Save the df in file named:pollution.csv\n",
    "df.to_csv('pollution.csv')\n",
    "\n",
    "# Read 'pollution.csv'\n",
    "df = pd.read_csv('pollution.csv')\n",
    "\n",
    "# Set 'Date' as index for df\n",
    "df = df.set_index('Date')\n",
    "\n",
    "df.head()"
   ]
  },
  {
   "cell_type": "markdown",
   "id": "ad7852b9",
   "metadata": {},
   "source": [
    "## Missing Values"
   ]
  },
  {
   "cell_type": "code",
   "execution_count": 5,
   "id": "4a492982",
   "metadata": {},
   "outputs": [],
   "source": [
    "#On the pollution column of our data, impute the missing values with the Observation Carried Forward (LOCF) \n",
    "df['pollution']= df['pollution'].fillna(method ='bfill')"
   ]
  },
  {
   "cell_type": "code",
   "execution_count": 6,
   "id": "6f359137",
   "metadata": {
    "scrolled": true
   },
   "outputs": [
    {
     "data": {
      "text/plain": [
       "0"
      ]
     },
     "execution_count": 6,
     "metadata": {},
     "output_type": "execute_result"
    }
   ],
   "source": [
    "nul_data = pd.isnull(df['pollution']) \n",
    "sum(nul_data)"
   ]
  },
  {
   "cell_type": "markdown",
   "id": "40468030",
   "metadata": {},
   "source": [
    "# Plotting the Data"
   ]
  },
  {
   "cell_type": "code",
   "execution_count": 7,
   "id": "5055965e",
   "metadata": {
    "scrolled": false
   },
   "outputs": [
    {
     "data": {
      "image/png": "[encoded data removed]",
      "text/plain": [
       "<Figure size 640x480 with 1 Axes>"
      ]
     },
     "metadata": {},
     "output_type": "display_data"
    }
   ],
   "source": [
    "df[\"pollution\"].plot()\n",
    "plt.xticks(rotation = 45)\n",
    "plt.show()"
   ]
  },
  {
   "cell_type": "markdown",
   "id": "e2295f14",
   "metadata": {},
   "source": [
    "# Long Short Term Model (LSTM)¶\n",
    "\n",
    "- Long Short-Term Memory (LSTM) networks are a type of recurrent neural network (RNN) that are well-suited to time series forecasting due to their ability to learn long-term dependencies. LSTMs are particularly effective for datasets where the temporal order and lag relationships are critical, such as in weather forecasting, stock prices, and many other sequential data problems.\n",
    "- Long Short-Term Memory (LSTM) is a type of Recurrent Neural Network (RNN) model developed due to the vanishing gradient problem in traditional RNNs. LSTM method is used to capture long term dependencies and non-linear patterns in the data. LSTM models are trained according to backpropagation through time which reduces the vanishing gradient problem to optimize the network parameters.\n",
    "- LSTM networks contain memory cells that allow them to retain information over time. Each LSTM cell has 3 gates as forget gate, input gate and output gate. Through forget gate, it will forget unimportant information since it determines which information is considered as important information. In the input gate new information will be added to the LSTM cell. The output gate also provides us with the final prediction of model. LSTM can be successfully directed for multivariate time series forecasting. Due to its liability to retain the information over long sequence of data, it is of most importance for larger and more complex data."
   ]
  },
  {
   "cell_type": "markdown",
   "id": "55b7879f",
   "metadata": {},
   "source": [
    "# Data Preparation for LSTM model\n",
    "- Before machine learning can be used, time series forecasting problems must be re-framed as supervised learning problems and input values must be normalized.  \n",
    "- We want to predict the pollution for the current time.\n",
    "- wind direction column is categorical and should be encoded to numeric values.\n",
    "- Data is loaded and is normalized using MinMaxScaler\n",
    "- All values are made sure to be 'float' type\n",
    "- \"lstm_data_preparation\" function is used to frame the final data\n",
    "- Unneeded columns that we are not going to forecast them are dropped from a final dataframe. \n",
    "- We are going to have 8 variables or features () and forecst the air pollution \"pollution\" as an output.\n",
    "- lag of time of 1 is investigated first and we are going to look back for only 1 time to do the forecasting first. \n",
    "- An algorithm is developed to learn how to predict the output patterns from the input patterns."
   ]
  },
  {
   "cell_type": "code",
   "execution_count": 8,
   "id": "2e43424f",
   "metadata": {
    "scrolled": false
   },
   "outputs": [
    {
     "data": {
      "text/html": [
       "<div>\n",
       "<style scoped>\n",
       "    .dataframe tbody tr th:only-of-type {\n",
       "        vertical-align: middle;\n",
       "    }\n",
       "\n",
       "    .dataframe tbody tr th {\n",
       "        vertical-align: top;\n",
       "    }\n",
       "\n",
       "    .dataframe thead th {\n",
       "        text-align: right;\n",
       "    }\n",
       "</style>\n",
       "<table border=\"1\" class=\"dataframe\">\n",
       "  <thead>\n",
       "    <tr style=\"text-align: right;\">\n",
       "      <th></th>\n",
       "      <th>pollution</th>\n",
       "    </tr>\n",
       "    <tr>\n",
       "      <th>Date</th>\n",
       "      <th></th>\n",
       "    </tr>\n",
       "  </thead>\n",
       "  <tbody>\n",
       "    <tr>\n",
       "      <th>2010-01-02 00:00:00</th>\n",
       "      <td>129.0</td>\n",
       "    </tr>\n",
       "    <tr>\n",
       "      <th>2010-01-02 01:00:00</th>\n",
       "      <td>148.0</td>\n",
       "    </tr>\n",
       "    <tr>\n",
       "      <th>2010-01-02 02:00:00</th>\n",
       "      <td>159.0</td>\n",
       "    </tr>\n",
       "    <tr>\n",
       "      <th>2010-01-02 03:00:00</th>\n",
       "      <td>181.0</td>\n",
       "    </tr>\n",
       "    <tr>\n",
       "      <th>2010-01-02 04:00:00</th>\n",
       "      <td>138.0</td>\n",
       "    </tr>\n",
       "    <tr>\n",
       "      <th>...</th>\n",
       "      <td>...</td>\n",
       "    </tr>\n",
       "    <tr>\n",
       "      <th>2014-12-31 19:00:00</th>\n",
       "      <td>8.0</td>\n",
       "    </tr>\n",
       "    <tr>\n",
       "      <th>2014-12-31 20:00:00</th>\n",
       "      <td>10.0</td>\n",
       "    </tr>\n",
       "    <tr>\n",
       "      <th>2014-12-31 21:00:00</th>\n",
       "      <td>10.0</td>\n",
       "    </tr>\n",
       "    <tr>\n",
       "      <th>2014-12-31 22:00:00</th>\n",
       "      <td>8.0</td>\n",
       "    </tr>\n",
       "    <tr>\n",
       "      <th>2014-12-31 23:00:00</th>\n",
       "      <td>12.0</td>\n",
       "    </tr>\n",
       "  </tbody>\n",
       "</table>\n",
       "<p>43800 rows × 1 columns</p>\n",
       "</div>"
      ],
      "text/plain": [
       "                     pollution\n",
       "Date                          \n",
       "2010-01-02 00:00:00      129.0\n",
       "2010-01-02 01:00:00      148.0\n",
       "2010-01-02 02:00:00      159.0\n",
       "2010-01-02 03:00:00      181.0\n",
       "2010-01-02 04:00:00      138.0\n",
       "...                        ...\n",
       "2014-12-31 19:00:00        8.0\n",
       "2014-12-31 20:00:00       10.0\n",
       "2014-12-31 21:00:00       10.0\n",
       "2014-12-31 22:00:00        8.0\n",
       "2014-12-31 23:00:00       12.0\n",
       "\n",
       "[43800 rows x 1 columns]"
      ]
     },
     "execution_count": 8,
     "metadata": {},
     "output_type": "execute_result"
    }
   ],
   "source": [
    "#Load the dataset\n",
    "df.to_csv('pollution.csv')\n",
    "df = pd.read_csv('pollution.csv', header=0, index_col=0)\n",
    "df"
   ]
  },
  {
   "cell_type": "code",
   "execution_count": 9,
   "id": "a6c4be3e",
   "metadata": {},
   "outputs": [],
   "source": [
    "df_lstm = df['pollution']"
   ]
  },
  {
   "cell_type": "code",
   "execution_count": 10,
   "id": "45eb994e",
   "metadata": {},
   "outputs": [],
   "source": [
    "def prepare_data(df, step):\n",
    "    df_as_numpy = df.to_numpy()\n",
    "    x=[]\n",
    "    y=[]\n",
    "    for i in range(len(df_as_numpy)-step):\n",
    "        rows = [[a] for a in df_as_numpy[i:i+step]]\n",
    "        x.append(rows)\n",
    "        label = df_as_numpy[i+step]\n",
    "        y.append(label)\n",
    "    return np.array(x), np.array(y)"
   ]
  },
  {
   "cell_type": "code",
   "execution_count": 11,
   "id": "8fd7f5ce",
   "metadata": {},
   "outputs": [],
   "source": [
    "x1, y1 = prepare_data(df_lstm, 2)"
   ]
  },
  {
   "cell_type": "code",
   "execution_count": 12,
   "id": "8416d925",
   "metadata": {},
   "outputs": [],
   "source": [
    "def train_test_data(x, y, df):\n",
    "    train = int(len(x)*0.8)\n",
    "    test = int(len(x))\n",
    "\n",
    "    x_train, y_train = x[:train], y[:train]\n",
    "    x_test, y_test = x[train:test], y[train:test]\n",
    "\n",
    "    dates_train = df[0:train]\n",
    "    dates_test = df[train:test]\n",
    "    \n",
    "    return x_train, y_train, x_test, y_test"
   ]
  },
  {
   "cell_type": "code",
   "execution_count": 13,
   "id": "da8a49fd",
   "metadata": {},
   "outputs": [],
   "source": [
    "x_train1, y_train1, x_test1, y_test1 = train_test_data(x1, y1, df_lstm)"
   ]
  },
  {
   "cell_type": "code",
   "execution_count": 14,
   "id": "d39a60d7",
   "metadata": {},
   "outputs": [
    {
     "data": {
      "text/plain": [
       "((35038, 2, 1), (35038,), (8760, 2, 1), (8760,))"
      ]
     },
     "execution_count": 14,
     "metadata": {},
     "output_type": "execute_result"
    }
   ],
   "source": [
    "x_train1.shape, y_train1.shape, x_test1.shape, y_test1.shape"
   ]
  },
  {
   "cell_type": "code",
   "execution_count": 15,
   "id": "03a1a0da",
   "metadata": {},
   "outputs": [],
   "source": [
    "def plot_train_test(x, df):\n",
    "    a = int(len(x)*0.8)\n",
    "    b = int(len(x))\n",
    "    df_lstm_train = df[0:a]\n",
    "    df_lstm_test = df[a:b]\n",
    "    plt.plot(df_lstm_train)\n",
    "    plt.plot(df_lstm_test) \n",
    "    plt.legend(['Train Data', 'Test Data'])\n",
    "    plt.show()\n"
   ]
  },
  {
   "cell_type": "code",
   "execution_count": null,
   "id": "9b4f85bb",
   "metadata": {},
   "outputs": [],
   "source": [
    "plot_train_test(x1, df_lstm)"
   ]
  },
  {
   "cell_type": "code",
   "execution_count": 16,
   "id": "e2a16f74",
   "metadata": {},
   "outputs": [],
   "source": [
    "def model_LSTM(x_train, y_train):\n",
    "    model = Sequential()\n",
    "    model.add(LSTM(units = 100, activation='relu', input_shape=(2,1)))\n",
    "    model.add(Dense(1)) \n",
    "    model.compile(loss='mse',\n",
    "                   optimizer='adam')\n",
    "    model.fit(x_train, y_train, epochs=25)\n",
    "    return model"
   ]
  },
  {
   "cell_type": "code",
   "execution_count": 17,
   "id": "8a69682f",
   "metadata": {},
   "outputs": [
    {
     "name": "stdout",
     "output_type": "stream",
     "text": [
      "WARNING:tensorflow:From C:\\Users\\Hamid.Azizi\\AppData\\Local\\anaconda3\\Lib\\site-packages\\keras\\src\\backend.py:873: The name tf.get_default_graph is deprecated. Please use tf.compat.v1.get_default_graph instead.\n",
      "\n",
      "WARNING:tensorflow:From C:\\Users\\Hamid.Azizi\\AppData\\Local\\anaconda3\\Lib\\site-packages\\keras\\src\\optimizers\\__init__.py:309: The name tf.train.Optimizer is deprecated. Please use tf.compat.v1.train.Optimizer instead.\n",
      "\n",
      "Epoch 1/25\n",
      "WARNING:tensorflow:From C:\\Users\\Hamid.Azizi\\AppData\\Local\\anaconda3\\Lib\\site-packages\\keras\\src\\utils\\tf_utils.py:492: The name tf.ragged.RaggedTensorValue is deprecated. Please use tf.compat.v1.ragged.RaggedTensorValue instead.\n",
      "\n",
      "1095/1095 [==============================] - 3s 1ms/step - loss: 915.8560\n",
      "Epoch 2/25\n",
      "1095/1095 [==============================] - 2s 1ms/step - loss: 577.3760\n",
      "Epoch 3/25\n",
      "1095/1095 [==============================] - 2s 1ms/step - loss: 577.9679\n",
      "Epoch 4/25\n",
      "1095/1095 [==============================] - 2s 1ms/step - loss: 580.0403\n",
      "Epoch 5/25\n",
      "1095/1095 [==============================] - 2s 1ms/step - loss: 568.0326\n",
      "Epoch 6/25\n",
      "1095/1095 [==============================] - 2s 1ms/step - loss: 562.4173\n",
      "Epoch 7/25\n",
      "1095/1095 [==============================] - 2s 1ms/step - loss: 561.0901\n",
      "Epoch 8/25\n",
      "1095/1095 [==============================] - 2s 1ms/step - loss: 566.9026\n",
      "Epoch 9/25\n",
      "1095/1095 [==============================] - 2s 1ms/step - loss: 560.6887\n",
      "Epoch 10/25\n",
      "1095/1095 [==============================] - 2s 1ms/step - loss: 560.6308\n",
      "Epoch 11/25\n",
      "1095/1095 [==============================] - 2s 1ms/step - loss: 559.2733\n",
      "Epoch 12/25\n",
      "1095/1095 [==============================] - 2s 1ms/step - loss: 559.9378\n",
      "Epoch 13/25\n",
      "1095/1095 [==============================] - 2s 1ms/step - loss: 560.5612\n",
      "Epoch 14/25\n",
      "1095/1095 [==============================] - 2s 1ms/step - loss: 558.3024\n",
      "Epoch 15/25\n",
      "1095/1095 [==============================] - 2s 1ms/step - loss: 561.2906\n",
      "Epoch 16/25\n",
      "1095/1095 [==============================] - 2s 1ms/step - loss: 561.9648\n",
      "Epoch 17/25\n",
      "1095/1095 [==============================] - 2s 2ms/step - loss: 561.4883\n",
      "Epoch 18/25\n",
      "1095/1095 [==============================] - 2s 1ms/step - loss: 554.5837\n",
      "Epoch 19/25\n",
      "1095/1095 [==============================] - 2s 1ms/step - loss: 560.1732\n",
      "Epoch 20/25\n",
      "1095/1095 [==============================] - 2s 1ms/step - loss: 560.8678\n",
      "Epoch 21/25\n",
      "1095/1095 [==============================] - 2s 1ms/step - loss: 558.1326\n",
      "Epoch 22/25\n",
      "1095/1095 [==============================] - 2s 1ms/step - loss: 556.3776\n",
      "Epoch 23/25\n",
      "1095/1095 [==============================] - 2s 1ms/step - loss: 557.6510\n",
      "Epoch 24/25\n",
      "1095/1095 [==============================] - 2s 1ms/step - loss: 558.2923\n",
      "Epoch 25/25\n",
      "1095/1095 [==============================] - 2s 1ms/step - loss: 555.6699\n"
     ]
    }
   ],
   "source": [
    "model_lstm = model_LSTM(x_train1, y_train1)"
   ]
  },
  {
   "cell_type": "code",
   "execution_count": 18,
   "id": "3c756888",
   "metadata": {},
   "outputs": [],
   "source": [
    "def prepare_data(df, step):\n",
    "    df_as_numpy = df.to_numpy()\n",
    "    x=[]\n",
    "    y=[]\n",
    "    for i in range(len(df_as_numpy)-step):\n",
    "        rows = [[a] for a in df_as_numpy[i:i+step]]\n",
    "        x.append(rows)\n",
    "        label = df_as_numpy[i+step]\n",
    "        y.append(label)\n",
    "    return np.array(x), np.array(y)"
   ]
  },
  {
   "cell_type": "code",
   "execution_count": 21,
   "id": "04a3cb68",
   "metadata": {},
   "outputs": [],
   "source": [
    "a = int(len(x1)*0.8)\n",
    "b = int(len(x1))\n",
    "df_lstm_train = df_lstm[0:a]\n",
    "df_lstm_test = df_lstm[a:b]"
   ]
  },
  {
   "cell_type": "code",
   "execution_count": 22,
   "id": "228f0225",
   "metadata": {},
   "outputs": [],
   "source": [
    "def plot_test_prediction(model, x, y, df):\n",
    "    test_predictions = model.predict(x).flatten()\n",
    "    \n",
    "    plt.plot(df_lstm_train)\n",
    "    plt.plot(df_lstm_test.index, test_predictions)\n",
    "    plt.plot(df_lstm_test.index, df_lstm_test)\n",
    "    plt.legend(['Train', 'Test Predictions_LSTM', 'Open'])\n",
    "    plt.xticks(rotation = 25)\n",
    "    \n",
    "    mse = mean_squared_error(y, test_predictions)\n",
    "    mae = mean_absolute_error(y, test_predictions)\n",
    "    mape = mean_absolute_percentage_error(y, test_predictions)\n",
    "    return mse, mae, mape"
   ]
  },
  {
   "cell_type": "code",
   "execution_count": null,
   "id": "be68a533",
   "metadata": {},
   "outputs": [
    {
     "name": "stdout",
     "output_type": "stream",
     "text": [
      "274/274 [==============================] - 0s 919us/step\n"
     ]
    },
    {
     "data": {
      "text/plain": [
       "(441.19352317219614, 11.498121798746118, 0.19866070070242864)"
      ]
     },
     "execution_count": 23,
     "metadata": {},
     "output_type": "execute_result"
    }
   ],
   "source": [
    "plot_test_prediction(model_lstm, x_test1, y_test1, df_lstm)"
   ]
  },
  {
   "cell_type": "code",
   "execution_count": null,
   "id": "1e8b7f0b",
   "metadata": {},
   "outputs": [],
   "source": [
    "def plot_train_test_prediction(model, df_lstm_train, df_lstm_test, x, ytrain, ytest):\n",
    "    test_predictions = model.predict(x).flatten()\n",
    "    plt.plot(df_lstm_train.index, ytrain)\n",
    "    plt.plot(df_lstm_test.index, test_predictions)\n",
    "    plt.plot(df_lstm_test.index, ytest)\n",
    "    plt.legend(['Open rain', 'Test Predictions_LSTM', 'Open Test'])"
   ]
  },
  {
   "cell_type": "code",
   "execution_count": null,
   "id": "b0790bbd",
   "metadata": {},
   "outputs": [],
   "source": []
  },
  {
   "cell_type": "code",
   "execution_count": null,
   "id": "625c5660",
   "metadata": {},
   "outputs": [],
   "source": [
    "plot_train_test_prediction(model_lstm, df_lstm_train, df_lstm_test, x_test1, y_train1, y_test1)"
   ]
  },
  {
   "cell_type": "code",
   "execution_count": null,
   "id": "e8ef86e3",
   "metadata": {},
   "outputs": [],
   "source": []
  }
 ],
 "metadata": {
  "kernelspec": {
   "display_name": "Python 3 (ipykernel)",
   "language": "python",
   "name": "python3"
  },
  "language_info": {
   "codemirror_mode": {
    "name": "ipython",
    "version": 3
   },
   "file_extension": ".py",
   "mimetype": "text/x-python",
   "name": "python",
   "nbconvert_exporter": "python",
   "pygments_lexer": "ipython3",
   "version": "3.11.5"
  }
 },
 "nbformat": 4,
 "nbformat_minor": 5
}
